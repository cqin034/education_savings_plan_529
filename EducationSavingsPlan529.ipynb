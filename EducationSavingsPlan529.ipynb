{
  "cells": [
    {
      "cell_type": "markdown",
      "id": "902843eb-a7c4-43a2-b45d-128a0896846a",
      "metadata": {
        "id": "902843eb-a7c4-43a2-b45d-128a0896846a"
      },
      "source": [
        "# Optimal investment and withdrawal strategies for Education 529 Plans\n",
        "## Abstract\n",
        "\n",
        "A research study focuses on the optimal investment and withdrawal strategies for Education 529 Plans to fund college education expenses over 18 years. The study aims to investigate the impact of different investment frequencies (monthly, quarterly, semiannually, and annually) on the growth and effectiveness of the 529 plan, followed by various withdrawal frequencies (monthly, semiannual, and annual) to cover four years of college expenses.\n",
        "\n",
        "**Objective**: The primary objective of this research is to identify the most effective investment and withdrawal strategies within the context of Education 529 Plans. Specifically, we aim to determine the optimal investment frequency and withdrawal frequency that would maximize the plan's growth and ensure sufficient funds for covering college bills.\n",
        "\n",
        "**Research Questions**:\n",
        "\n",
        "\n",
        "+  How does the investment frequency (monthly, quarterly, semiannually, and annually) affect the growth and overall value of the Education 529 Plan over 18 years?\n",
        "+ What are the implications of different withdrawal frequencies (monthly, semiannual, and annual) on the available funds to cover four years of college expenses?\n",
        "+  Which combination of investment and withdrawal frequencies would provide the best outcomes in maximizing the plan's growth and meeting college funding requirements?\n",
        "\n",
        "\n",
        "**Methodology**:\n",
        "\n",
        "+ Data Collection: Gather historical investment performance and college expenses over 18 years. Collect data on different investment and withdrawal frequencies from existing Education 529 Plans.\n",
        "+  Simulation: Utilize a comprehensive financial modeling approach to simulate the growth of the Education 529 Plan under various investment frequencies. Incorporate different withdrawal frequencies to assess the impact on available funds for college expenses.\n",
        "\n",
        "+  Analyze the simulated data to identify patterns, trends, and key findings regarding the effectiveness of different investment and withdrawal strategies.\n",
        "\n",
        "Recommendation: Based on the analysis, provide guidance for the best investment and withdrawal practices for Education 529\n",
        "\n",
        "\n",
        "**Python Coding**\n",
        "\n",
        "\n",
        "+ Based on the Robert Stock market data (http://www.econ.yale.edu/~shiller/data.htm), we focus on the SP500 (large cap) and 10-year Bond's monthly return.\n",
        "\n",
        "+ Rolling window Back testing on historical data\n",
        "\n",
        " + Loop over different percentage of equities, SP500= 0, 0.05, 0.10, 0.15, ...,1.0\n",
        "\n",
        "     + loop over different investment strategies (monthly, quarterly, semiannually, annually )\n",
        "        + loop over the rolling window and update the investments\n",
        "+ Monte Carlo Simulation (https://www.investopedia.com/terms/m/montecarlosimulation.asp)\n",
        "\n",
        "Reference\n",
        "+  Lump-sum investing versus cost averaging: Which is better? (https://investor.vanguard.com/investor-resources-education/news/lump-sum-investing-versus-cost-averaging-which-is-better)\n",
        "+ Cost averaging: Invest now or temporarily hold your cash?https://corporate.vanguard.com/content/dam/corp/research/pdf/cost_averaging_invest_now_or_temporarily_hold_your_cash.pdf\n",
        "+ Seattle undergraduate student budget: https://admit.washington.edu/costs/coa/\n",
        "+ UW Tuition History: https://depts.washington.edu/opbfiles/web/2016-17%20Tuition%20&%20Fee%20History.pdf\n"
      ]
    },
    {
      "cell_type": "markdown",
      "id": "0016591c-4bc5-43b0-a41f-882181e1d374",
      "metadata": {
        "id": "0016591c-4bc5-43b0-a41f-882181e1d374"
      },
      "source": [
        "## Load and Clean the Data\n",
        "\n",
        " Robert Stock market data (http://www.econ.yale.edu/~shiller/data.htm), we focus on the SP500 (large cap) and 10-year Bond's monthly return"
      ]
    },
    {
      "cell_type": "code",
      "execution_count": null,
      "id": "ae958e11-b1c3-47ee-9830-4905ed1586dd",
      "metadata": {
        "id": "ae958e11-b1c3-47ee-9830-4905ed1586dd",
        "outputId": "17deaa51-b1dd-4b1b-ff23-3660d5cf87b2"
      },
      "outputs": [
        {
          "data": {
            "text/html": [
              "<div>\n",
              "<style scoped>\n",
              "    .dataframe tbody tr th:only-of-type {\n",
              "        vertical-align: middle;\n",
              "    }\n",
              "\n",
              "    .dataframe tbody tr th {\n",
              "        vertical-align: top;\n",
              "    }\n",
              "\n",
              "    .dataframe thead th {\n",
              "        text-align: right;\n",
              "    }\n",
              "</style>\n",
              "<table border=\"1\" class=\"dataframe\">\n",
              "  <thead>\n",
              "    <tr style=\"text-align: right;\">\n",
              "      <th></th>\n",
              "      <th>Date</th>\n",
              "      <th>P</th>\n",
              "      <th>D</th>\n",
              "      <th>E</th>\n",
              "      <th>Monthly_Total_SP500_Return</th>\n",
              "      <th>CPI</th>\n",
              "      <th>Fraction</th>\n",
              "      <th>Rate GS10</th>\n",
              "      <th>Price</th>\n",
              "      <th>Dividend</th>\n",
              "      <th>...</th>\n",
              "      <th>Unnamed: 14</th>\n",
              "      <th>TR CAPE</th>\n",
              "      <th>Unnamed: 16</th>\n",
              "      <th>Yield</th>\n",
              "      <th>Returns</th>\n",
              "      <th>Monthly_Total_Bond_Return</th>\n",
              "      <th>Returns.1</th>\n",
              "      <th>Real Return</th>\n",
              "      <th>Real Return.1</th>\n",
              "      <th>Returns.2</th>\n",
              "    </tr>\n",
              "  </thead>\n",
              "  <tbody>\n",
              "    <tr>\n",
              "      <th>0</th>\n",
              "      <td>1871.01</td>\n",
              "      <td>4.44</td>\n",
              "      <td>0.26</td>\n",
              "      <td>0.4</td>\n",
              "      <td>NaN</td>\n",
              "      <td>12.464061</td>\n",
              "      <td>1871.041667</td>\n",
              "      <td>5.32</td>\n",
              "      <td>108.541508</td>\n",
              "      <td>6.356034</td>\n",
              "      <td>...</td>\n",
              "      <td>NaN</td>\n",
              "      <td>NaN</td>\n",
              "      <td>NaN</td>\n",
              "      <td>NaN</td>\n",
              "      <td>1.004177</td>\n",
              "      <td>NaN</td>\n",
              "      <td>1.000000</td>\n",
              "      <td>0.130609</td>\n",
              "      <td>0.092504</td>\n",
              "      <td>0.038106</td>\n",
              "    </tr>\n",
              "    <tr>\n",
              "      <th>1</th>\n",
              "      <td>1871.02</td>\n",
              "      <td>4.5</td>\n",
              "      <td>0.26</td>\n",
              "      <td>0.4</td>\n",
              "      <td>0.018393</td>\n",
              "      <td>12.844641</td>\n",
              "      <td>1871.125000</td>\n",
              "      <td>5.323333</td>\n",
              "      <td>106.748796</td>\n",
              "      <td>6.167708</td>\n",
              "      <td>...</td>\n",
              "      <td>NaN</td>\n",
              "      <td>NaN</td>\n",
              "      <td>NaN</td>\n",
              "      <td>NaN</td>\n",
              "      <td>1.004180</td>\n",
              "      <td>0.000003</td>\n",
              "      <td>0.974424</td>\n",
              "      <td>0.130858</td>\n",
              "      <td>0.094635</td>\n",
              "      <td>0.036224</td>\n",
              "    </tr>\n",
              "    <tr>\n",
              "      <th>2</th>\n",
              "      <td>1871.03</td>\n",
              "      <td>4.61</td>\n",
              "      <td>0.26</td>\n",
              "      <td>0.4</td>\n",
              "      <td>0.029259</td>\n",
              "      <td>13.034972</td>\n",
              "      <td>1871.208333</td>\n",
              "      <td>5.326667</td>\n",
              "      <td>107.761414</td>\n",
              "      <td>6.077650</td>\n",
              "      <td>...</td>\n",
              "      <td>NaN</td>\n",
              "      <td>NaN</td>\n",
              "      <td>NaN</td>\n",
              "      <td>NaN</td>\n",
              "      <td>1.004183</td>\n",
              "      <td>0.000003</td>\n",
              "      <td>0.964209</td>\n",
              "      <td>0.130951</td>\n",
              "      <td>0.096186</td>\n",
              "      <td>0.034765</td>\n",
              "    </tr>\n",
              "    <tr>\n",
              "      <th>3</th>\n",
              "      <td>1871.04</td>\n",
              "      <td>4.74</td>\n",
              "      <td>0.26</td>\n",
              "      <td>0.4</td>\n",
              "      <td>0.032899</td>\n",
              "      <td>12.559226</td>\n",
              "      <td>1871.291667</td>\n",
              "      <td>5.33</td>\n",
              "      <td>114.997369</td>\n",
              "      <td>6.307873</td>\n",
              "      <td>...</td>\n",
              "      <td>NaN</td>\n",
              "      <td>NaN</td>\n",
              "      <td>NaN</td>\n",
              "      <td>NaN</td>\n",
              "      <td>1.004185</td>\n",
              "      <td>0.000003</td>\n",
              "      <td>1.004919</td>\n",
              "      <td>0.122056</td>\n",
              "      <td>0.090972</td>\n",
              "      <td>0.031084</td>\n",
              "    </tr>\n",
              "    <tr>\n",
              "      <th>4</th>\n",
              "      <td>1871.05</td>\n",
              "      <td>4.86</td>\n",
              "      <td>0.26</td>\n",
              "      <td>0.4</td>\n",
              "      <td>0.029887</td>\n",
              "      <td>12.273812</td>\n",
              "      <td>1871.375000</td>\n",
              "      <td>5.333333</td>\n",
              "      <td>120.650541</td>\n",
              "      <td>6.454556</td>\n",
              "      <td>...</td>\n",
              "      <td>NaN</td>\n",
              "      <td>NaN</td>\n",
              "      <td>NaN</td>\n",
              "      <td>NaN</td>\n",
              "      <td>1.004188</td>\n",
              "      <td>0.000003</td>\n",
              "      <td>1.032591</td>\n",
              "      <td>0.122638</td>\n",
              "      <td>0.089488</td>\n",
              "      <td>0.033150</td>\n",
              "    </tr>\n",
              "    <tr>\n",
              "      <th>...</th>\n",
              "      <td>...</td>\n",
              "      <td>...</td>\n",
              "      <td>...</td>\n",
              "      <td>...</td>\n",
              "      <td>...</td>\n",
              "      <td>...</td>\n",
              "      <td>...</td>\n",
              "      <td>...</td>\n",
              "      <td>...</td>\n",
              "      <td>...</td>\n",
              "      <td>...</td>\n",
              "      <td>...</td>\n",
              "      <td>...</td>\n",
              "      <td>...</td>\n",
              "      <td>...</td>\n",
              "      <td>...</td>\n",
              "      <td>...</td>\n",
              "      <td>...</td>\n",
              "      <td>...</td>\n",
              "      <td>...</td>\n",
              "      <td>...</td>\n",
              "    </tr>\n",
              "    <tr>\n",
              "      <th>1827</th>\n",
              "      <td>2023.04</td>\n",
              "      <td>4121.467368</td>\n",
              "      <td>NaN</td>\n",
              "      <td>NaN</td>\n",
              "      <td>NaN</td>\n",
              "      <td>303.363</td>\n",
              "      <td>2023.291667</td>\n",
              "      <td>3.46</td>\n",
              "      <td>4139.631752</td>\n",
              "      <td>NaN</td>\n",
              "      <td>...</td>\n",
              "      <td>NaN</td>\n",
              "      <td>31.102513</td>\n",
              "      <td>NaN</td>\n",
              "      <td>0.027112</td>\n",
              "      <td>0.993708</td>\n",
              "      <td>-0.025603</td>\n",
              "      <td>41.322519</td>\n",
              "      <td>NaN</td>\n",
              "      <td>NaN</td>\n",
              "      <td>NaN</td>\n",
              "    </tr>\n",
              "    <tr>\n",
              "      <th>1828</th>\n",
              "      <td>2023.05</td>\n",
              "      <td>4146.173182</td>\n",
              "      <td>NaN</td>\n",
              "      <td>NaN</td>\n",
              "      <td>NaN</td>\n",
              "      <td>304.127</td>\n",
              "      <td>2023.375000</td>\n",
              "      <td>3.57</td>\n",
              "      <td>4153.984909</td>\n",
              "      <td>NaN</td>\n",
              "      <td>...</td>\n",
              "      <td>NaN</td>\n",
              "      <td>31.138963</td>\n",
              "      <td>NaN</td>\n",
              "      <td>0.026023</td>\n",
              "      <td>0.988087</td>\n",
              "      <td>-0.005656</td>\n",
              "      <td>40.959373</td>\n",
              "      <td>NaN</td>\n",
              "      <td>NaN</td>\n",
              "      <td>NaN</td>\n",
              "    </tr>\n",
              "    <tr>\n",
              "      <th>1829</th>\n",
              "      <td>2023.06</td>\n",
              "      <td>4345.372857</td>\n",
              "      <td>NaN</td>\n",
              "      <td>NaN</td>\n",
              "      <td>NaN</td>\n",
              "      <td>304.509</td>\n",
              "      <td>2023.458333</td>\n",
              "      <td>3.75</td>\n",
              "      <td>4348.098446</td>\n",
              "      <td>NaN</td>\n",
              "      <td>...</td>\n",
              "      <td>NaN</td>\n",
              "      <td>32.520839</td>\n",
              "      <td>NaN</td>\n",
              "      <td>0.022609</td>\n",
              "      <td>0.998176</td>\n",
              "      <td>0.010211</td>\n",
              "      <td>40.420668</td>\n",
              "      <td>NaN</td>\n",
              "      <td>NaN</td>\n",
              "      <td>NaN</td>\n",
              "    </tr>\n",
              "    <tr>\n",
              "      <th>1830</th>\n",
              "      <td>2023.07</td>\n",
              "      <td>4455.59</td>\n",
              "      <td>NaN</td>\n",
              "      <td>NaN</td>\n",
              "      <td>NaN</td>\n",
              "      <td>304.7</td>\n",
              "      <td>2023.541667</td>\n",
              "      <td>3.81</td>\n",
              "      <td>4455.590000</td>\n",
              "      <td>NaN</td>\n",
              "      <td>...</td>\n",
              "      <td>NaN</td>\n",
              "      <td>33.251184</td>\n",
              "      <td>NaN</td>\n",
              "      <td>0.021281</td>\n",
              "      <td>NaN</td>\n",
              "      <td>NaN</td>\n",
              "      <td>40.321663</td>\n",
              "      <td>NaN</td>\n",
              "      <td>NaN</td>\n",
              "      <td>NaN</td>\n",
              "    </tr>\n",
              "    <tr>\n",
              "      <th>1831</th>\n",
              "      <td>NaN</td>\n",
              "      <td>July price is July 3rd close</td>\n",
              "      <td>NaN</td>\n",
              "      <td>March Estimated</td>\n",
              "      <td>0.009875</td>\n",
              "      <td>June/July CPI estimated</td>\n",
              "      <td>NaN</td>\n",
              "      <td>July GS10 is July 3rd value</td>\n",
              "      <td>NaN</td>\n",
              "      <td>NaN</td>\n",
              "      <td>...</td>\n",
              "      <td>NaN</td>\n",
              "      <td>NaN</td>\n",
              "      <td>NaN</td>\n",
              "      <td>NaN</td>\n",
              "      <td>NaN</td>\n",
              "      <td>NaN</td>\n",
              "      <td>NaN</td>\n",
              "      <td>NaN</td>\n",
              "      <td>NaN</td>\n",
              "      <td>NaN</td>\n",
              "    </tr>\n",
              "  </tbody>\n",
              "</table>\n",
              "<p>1832 rows × 24 columns</p>\n",
              "</div>"
            ],
            "text/plain": [
              "         Date                             P     D                E  \\\n",
              "0     1871.01                          4.44  0.26              0.4   \n",
              "1     1871.02                           4.5  0.26              0.4   \n",
              "2     1871.03                          4.61  0.26              0.4   \n",
              "3     1871.04                          4.74  0.26              0.4   \n",
              "4     1871.05                          4.86  0.26              0.4   \n",
              "...       ...                           ...   ...              ...   \n",
              "1827  2023.04                   4121.467368   NaN              NaN   \n",
              "1828  2023.05                   4146.173182   NaN              NaN   \n",
              "1829  2023.06                   4345.372857   NaN              NaN   \n",
              "1830  2023.07                       4455.59   NaN              NaN   \n",
              "1831      NaN  July price is July 3rd close   NaN  March Estimated   \n",
              "\n",
              "      Monthly_Total_SP500_Return                      CPI     Fraction  \\\n",
              "0                            NaN                12.464061  1871.041667   \n",
              "1                       0.018393                12.844641  1871.125000   \n",
              "2                       0.029259                13.034972  1871.208333   \n",
              "3                       0.032899                12.559226  1871.291667   \n",
              "4                       0.029887                12.273812  1871.375000   \n",
              "...                          ...                      ...          ...   \n",
              "1827                         NaN                  303.363  2023.291667   \n",
              "1828                         NaN                  304.127  2023.375000   \n",
              "1829                         NaN                  304.509  2023.458333   \n",
              "1830                         NaN                    304.7  2023.541667   \n",
              "1831                    0.009875  June/July CPI estimated          NaN   \n",
              "\n",
              "                        Rate GS10        Price  Dividend  ...  Unnamed: 14  \\\n",
              "0                            5.32   108.541508  6.356034  ...          NaN   \n",
              "1                        5.323333   106.748796  6.167708  ...          NaN   \n",
              "2                        5.326667   107.761414  6.077650  ...          NaN   \n",
              "3                            5.33   114.997369  6.307873  ...          NaN   \n",
              "4                        5.333333   120.650541  6.454556  ...          NaN   \n",
              "...                           ...          ...       ...  ...          ...   \n",
              "1827                         3.46  4139.631752       NaN  ...          NaN   \n",
              "1828                         3.57  4153.984909       NaN  ...          NaN   \n",
              "1829                         3.75  4348.098446       NaN  ...          NaN   \n",
              "1830                         3.81  4455.590000       NaN  ...          NaN   \n",
              "1831  July GS10 is July 3rd value          NaN       NaN  ...          NaN   \n",
              "\n",
              "        TR CAPE  Unnamed: 16     Yield   Returns  Monthly_Total_Bond_Return  \\\n",
              "0           NaN          NaN       NaN  1.004177                        NaN   \n",
              "1           NaN          NaN       NaN  1.004180                   0.000003   \n",
              "2           NaN          NaN       NaN  1.004183                   0.000003   \n",
              "3           NaN          NaN       NaN  1.004185                   0.000003   \n",
              "4           NaN          NaN       NaN  1.004188                   0.000003   \n",
              "...         ...          ...       ...       ...                        ...   \n",
              "1827  31.102513          NaN  0.027112  0.993708                  -0.025603   \n",
              "1828  31.138963          NaN  0.026023  0.988087                  -0.005656   \n",
              "1829  32.520839          NaN  0.022609  0.998176                   0.010211   \n",
              "1830  33.251184          NaN  0.021281       NaN                        NaN   \n",
              "1831        NaN          NaN       NaN       NaN                        NaN   \n",
              "\n",
              "      Returns.1  Real Return  Real Return.1  Returns.2  \n",
              "0      1.000000     0.130609       0.092504   0.038106  \n",
              "1      0.974424     0.130858       0.094635   0.036224  \n",
              "2      0.964209     0.130951       0.096186   0.034765  \n",
              "3      1.004919     0.122056       0.090972   0.031084  \n",
              "4      1.032591     0.122638       0.089488   0.033150  \n",
              "...         ...          ...            ...        ...  \n",
              "1827  41.322519          NaN            NaN        NaN  \n",
              "1828  40.959373          NaN            NaN        NaN  \n",
              "1829  40.420668          NaN            NaN        NaN  \n",
              "1830  40.321663          NaN            NaN        NaN  \n",
              "1831        NaN          NaN            NaN        NaN  \n",
              "\n",
              "[1832 rows x 24 columns]"
            ]
          },
          "execution_count": 1,
          "metadata": {},
          "output_type": "execute_result"
        }
      ],
      "source": [
        "import time\n",
        "start_time = time.time()\n",
        "\n",
        "import  pandas as pd\n",
        "returns_df = pd.read_excel('ie_data.xls', sheet_name='Data', header=7)\n",
        "returns_df"
      ]
    },
    {
      "cell_type": "code",
      "execution_count": null,
      "id": "2f7bdc87-4eee-4cb3-8d67-7876bd7ba084",
      "metadata": {
        "id": "2f7bdc87-4eee-4cb3-8d67-7876bd7ba084",
        "outputId": "2a12db48-f171-4c61-99aa-afa8f7786fd9"
      },
      "outputs": [
        {
          "name": "stdout",
          "output_type": "stream",
          "text": [
            " There are 1831 month's data!\n",
            " The missing values in each column \n",
            "Date                          1\n",
            "Monthly_Total_SP500_Return    4\n",
            "Monthly_Total_Bond_Return     2\n",
            "dtype: int64\n"
          ]
        },
        {
          "data": {
            "text/html": [
              "<div>\n",
              "<style scoped>\n",
              "    .dataframe tbody tr th:only-of-type {\n",
              "        vertical-align: middle;\n",
              "    }\n",
              "\n",
              "    .dataframe tbody tr th {\n",
              "        vertical-align: top;\n",
              "    }\n",
              "\n",
              "    .dataframe thead th {\n",
              "        text-align: right;\n",
              "    }\n",
              "</style>\n",
              "<table border=\"1\" class=\"dataframe\">\n",
              "  <thead>\n",
              "    <tr style=\"text-align: right;\">\n",
              "      <th></th>\n",
              "      <th>Date</th>\n",
              "      <th>Monthly_Total_SP500_Return</th>\n",
              "      <th>Monthly_Total_Bond_Return</th>\n",
              "    </tr>\n",
              "  </thead>\n",
              "  <tbody>\n",
              "    <tr>\n",
              "      <th>1812</th>\n",
              "      <td>2022.01</td>\n",
              "      <td>-0.020510</td>\n",
              "      <td>0.011571</td>\n",
              "    </tr>\n",
              "    <tr>\n",
              "      <th>1813</th>\n",
              "      <td>2022.02</td>\n",
              "      <td>-0.029016</td>\n",
              "      <td>-0.002424</td>\n",
              "    </tr>\n",
              "    <tr>\n",
              "      <th>1814</th>\n",
              "      <td>2022.03</td>\n",
              "      <td>-0.008916</td>\n",
              "      <td>-0.036318</td>\n",
              "    </tr>\n",
              "    <tr>\n",
              "      <th>1815</th>\n",
              "      <td>2022.04</td>\n",
              "      <td>0.001196</td>\n",
              "      <td>0.043630</td>\n",
              "    </tr>\n",
              "    <tr>\n",
              "      <th>1816</th>\n",
              "      <td>2022.05</td>\n",
              "      <td>-0.078714</td>\n",
              "      <td>-0.007469</td>\n",
              "    </tr>\n",
              "    <tr>\n",
              "      <th>1817</th>\n",
              "      <td>2022.06</td>\n",
              "      <td>-0.033680</td>\n",
              "      <td>0.042048</td>\n",
              "    </tr>\n",
              "    <tr>\n",
              "      <th>1818</th>\n",
              "      <td>2022.07</td>\n",
              "      <td>0.004656</td>\n",
              "      <td>-0.020387</td>\n",
              "    </tr>\n",
              "    <tr>\n",
              "      <th>1819</th>\n",
              "      <td>2022.08</td>\n",
              "      <td>0.064483</td>\n",
              "      <td>-0.051711</td>\n",
              "    </tr>\n",
              "    <tr>\n",
              "      <th>1820</th>\n",
              "      <td>2022.09</td>\n",
              "      <td>-0.072765</td>\n",
              "      <td>0.015477</td>\n",
              "    </tr>\n",
              "    <tr>\n",
              "      <th>1821</th>\n",
              "      <td>2022.10</td>\n",
              "      <td>-0.030900</td>\n",
              "      <td>0.047051</td>\n",
              "    </tr>\n",
              "    <tr>\n",
              "      <th>1822</th>\n",
              "      <td>2022.11</td>\n",
              "      <td>0.052863</td>\n",
              "      <td>0.014839</td>\n",
              "    </tr>\n",
              "    <tr>\n",
              "      <th>1823</th>\n",
              "      <td>2022.12</td>\n",
              "      <td>0.000120</td>\n",
              "      <td>-0.014792</td>\n",
              "    </tr>\n",
              "    <tr>\n",
              "      <th>1824</th>\n",
              "      <td>2023.01</td>\n",
              "      <td>0.013774</td>\n",
              "      <td>-0.025523</td>\n",
              "    </tr>\n",
              "    <tr>\n",
              "      <th>1825</th>\n",
              "      <td>2023.02</td>\n",
              "      <td>0.031479</td>\n",
              "      <td>0.026255</td>\n",
              "    </tr>\n",
              "    <tr>\n",
              "      <th>1826</th>\n",
              "      <td>2023.03</td>\n",
              "      <td>-0.025845</td>\n",
              "      <td>0.009121</td>\n",
              "    </tr>\n",
              "    <tr>\n",
              "      <th>1827</th>\n",
              "      <td>2023.04</td>\n",
              "      <td>NaN</td>\n",
              "      <td>-0.025603</td>\n",
              "    </tr>\n",
              "    <tr>\n",
              "      <th>1828</th>\n",
              "      <td>2023.05</td>\n",
              "      <td>NaN</td>\n",
              "      <td>-0.005656</td>\n",
              "    </tr>\n",
              "    <tr>\n",
              "      <th>1829</th>\n",
              "      <td>2023.06</td>\n",
              "      <td>NaN</td>\n",
              "      <td>0.010211</td>\n",
              "    </tr>\n",
              "    <tr>\n",
              "      <th>1830</th>\n",
              "      <td>2023.07</td>\n",
              "      <td>NaN</td>\n",
              "      <td>NaN</td>\n",
              "    </tr>\n",
              "    <tr>\n",
              "      <th>1831</th>\n",
              "      <td>NaN</td>\n",
              "      <td>0.009875</td>\n",
              "      <td>NaN</td>\n",
              "    </tr>\n",
              "  </tbody>\n",
              "</table>\n",
              "</div>"
            ],
            "text/plain": [
              "         Date  Monthly_Total_SP500_Return  Monthly_Total_Bond_Return\n",
              "1812  2022.01                   -0.020510                   0.011571\n",
              "1813  2022.02                   -0.029016                  -0.002424\n",
              "1814  2022.03                   -0.008916                  -0.036318\n",
              "1815  2022.04                    0.001196                   0.043630\n",
              "1816  2022.05                   -0.078714                  -0.007469\n",
              "1817  2022.06                   -0.033680                   0.042048\n",
              "1818  2022.07                    0.004656                  -0.020387\n",
              "1819  2022.08                    0.064483                  -0.051711\n",
              "1820  2022.09                   -0.072765                   0.015477\n",
              "1821  2022.10                   -0.030900                   0.047051\n",
              "1822  2022.11                    0.052863                   0.014839\n",
              "1823  2022.12                    0.000120                  -0.014792\n",
              "1824  2023.01                    0.013774                  -0.025523\n",
              "1825  2023.02                    0.031479                   0.026255\n",
              "1826  2023.03                   -0.025845                   0.009121\n",
              "1827  2023.04                         NaN                  -0.025603\n",
              "1828  2023.05                         NaN                  -0.005656\n",
              "1829  2023.06                         NaN                   0.010211\n",
              "1830  2023.07                         NaN                        NaN\n",
              "1831      NaN                    0.009875                        NaN"
            ]
          },
          "execution_count": 2,
          "metadata": {},
          "output_type": "execute_result"
        }
      ],
      "source": [
        "#select only three columns that related to this project\n",
        "returns_df = returns_df.loc[1:, ['Date','Monthly_Total_SP500_Return', 'Monthly_Total_Bond_Return']]\n",
        "print(f\" There are {len(returns_df.index) } month's data!\")\n",
        "\n",
        "print(f\" The missing values in each column \")\n",
        "print(returns_df.isnull().sum())\n",
        "returns_df.tail(20)"
      ]
    },
    {
      "cell_type": "code",
      "execution_count": null,
      "id": "cee7d654-836d-4d02-8285-c64a051e21ea",
      "metadata": {
        "id": "cee7d654-836d-4d02-8285-c64a051e21ea",
        "outputId": "4c1073e4-4771-491b-d1e5-fe15877e1f64"
      },
      "outputs": [
        {
          "name": "stdout",
          "output_type": "stream",
          "text": [
            " There are 1826 month's data!\n",
            " The missing values in each column \n",
            "index                         0\n",
            "Date                          0\n",
            "Monthly_Total_SP500_Return    0\n",
            "Monthly_Total_Bond_Return     0\n",
            "dtype: int64\n"
          ]
        },
        {
          "data": {
            "text/html": [
              "<div>\n",
              "<style scoped>\n",
              "    .dataframe tbody tr th:only-of-type {\n",
              "        vertical-align: middle;\n",
              "    }\n",
              "\n",
              "    .dataframe tbody tr th {\n",
              "        vertical-align: top;\n",
              "    }\n",
              "\n",
              "    .dataframe thead th {\n",
              "        text-align: right;\n",
              "    }\n",
              "</style>\n",
              "<table border=\"1\" class=\"dataframe\">\n",
              "  <thead>\n",
              "    <tr style=\"text-align: right;\">\n",
              "      <th></th>\n",
              "      <th>index</th>\n",
              "      <th>Date</th>\n",
              "      <th>Monthly_Total_SP500_Return</th>\n",
              "      <th>Monthly_Total_Bond_Return</th>\n",
              "    </tr>\n",
              "  </thead>\n",
              "  <tbody>\n",
              "    <tr>\n",
              "      <th>1806</th>\n",
              "      <td>1807</td>\n",
              "      <td>2021.08</td>\n",
              "      <td>0.021860</td>\n",
              "      <td>-0.012039</td>\n",
              "    </tr>\n",
              "    <tr>\n",
              "      <th>1807</th>\n",
              "      <td>1808</td>\n",
              "      <td>2021.09</td>\n",
              "      <td>-0.000836</td>\n",
              "      <td>-0.010927</td>\n",
              "    </tr>\n",
              "    <tr>\n",
              "      <th>1808</th>\n",
              "      <td>1809</td>\n",
              "      <td>2021.10</td>\n",
              "      <td>0.004529</td>\n",
              "      <td>0.021668</td>\n",
              "    </tr>\n",
              "    <tr>\n",
              "      <th>1809</th>\n",
              "      <td>1810</td>\n",
              "      <td>2021.11</td>\n",
              "      <td>0.047455</td>\n",
              "      <td>0.006427</td>\n",
              "    </tr>\n",
              "    <tr>\n",
              "      <th>1810</th>\n",
              "      <td>1811</td>\n",
              "      <td>2021.12</td>\n",
              "      <td>0.002661</td>\n",
              "      <td>-0.034416</td>\n",
              "    </tr>\n",
              "    <tr>\n",
              "      <th>1811</th>\n",
              "      <td>1812</td>\n",
              "      <td>2022.01</td>\n",
              "      <td>-0.020510</td>\n",
              "      <td>0.011571</td>\n",
              "    </tr>\n",
              "    <tr>\n",
              "      <th>1812</th>\n",
              "      <td>1813</td>\n",
              "      <td>2022.02</td>\n",
              "      <td>-0.029016</td>\n",
              "      <td>-0.002424</td>\n",
              "    </tr>\n",
              "    <tr>\n",
              "      <th>1813</th>\n",
              "      <td>1814</td>\n",
              "      <td>2022.03</td>\n",
              "      <td>-0.008916</td>\n",
              "      <td>-0.036318</td>\n",
              "    </tr>\n",
              "    <tr>\n",
              "      <th>1814</th>\n",
              "      <td>1815</td>\n",
              "      <td>2022.04</td>\n",
              "      <td>0.001196</td>\n",
              "      <td>0.043630</td>\n",
              "    </tr>\n",
              "    <tr>\n",
              "      <th>1815</th>\n",
              "      <td>1816</td>\n",
              "      <td>2022.05</td>\n",
              "      <td>-0.078714</td>\n",
              "      <td>-0.007469</td>\n",
              "    </tr>\n",
              "    <tr>\n",
              "      <th>1816</th>\n",
              "      <td>1817</td>\n",
              "      <td>2022.06</td>\n",
              "      <td>-0.033680</td>\n",
              "      <td>0.042048</td>\n",
              "    </tr>\n",
              "    <tr>\n",
              "      <th>1817</th>\n",
              "      <td>1818</td>\n",
              "      <td>2022.07</td>\n",
              "      <td>0.004656</td>\n",
              "      <td>-0.020387</td>\n",
              "    </tr>\n",
              "    <tr>\n",
              "      <th>1818</th>\n",
              "      <td>1819</td>\n",
              "      <td>2022.08</td>\n",
              "      <td>0.064483</td>\n",
              "      <td>-0.051711</td>\n",
              "    </tr>\n",
              "    <tr>\n",
              "      <th>1819</th>\n",
              "      <td>1820</td>\n",
              "      <td>2022.09</td>\n",
              "      <td>-0.072765</td>\n",
              "      <td>0.015477</td>\n",
              "    </tr>\n",
              "    <tr>\n",
              "      <th>1820</th>\n",
              "      <td>1821</td>\n",
              "      <td>2022.10</td>\n",
              "      <td>-0.030900</td>\n",
              "      <td>0.047051</td>\n",
              "    </tr>\n",
              "    <tr>\n",
              "      <th>1821</th>\n",
              "      <td>1822</td>\n",
              "      <td>2022.11</td>\n",
              "      <td>0.052863</td>\n",
              "      <td>0.014839</td>\n",
              "    </tr>\n",
              "    <tr>\n",
              "      <th>1822</th>\n",
              "      <td>1823</td>\n",
              "      <td>2022.12</td>\n",
              "      <td>0.000120</td>\n",
              "      <td>-0.014792</td>\n",
              "    </tr>\n",
              "    <tr>\n",
              "      <th>1823</th>\n",
              "      <td>1824</td>\n",
              "      <td>2023.01</td>\n",
              "      <td>0.013774</td>\n",
              "      <td>-0.025523</td>\n",
              "    </tr>\n",
              "    <tr>\n",
              "      <th>1824</th>\n",
              "      <td>1825</td>\n",
              "      <td>2023.02</td>\n",
              "      <td>0.031479</td>\n",
              "      <td>0.026255</td>\n",
              "    </tr>\n",
              "    <tr>\n",
              "      <th>1825</th>\n",
              "      <td>1826</td>\n",
              "      <td>2023.03</td>\n",
              "      <td>-0.025845</td>\n",
              "      <td>0.009121</td>\n",
              "    </tr>\n",
              "  </tbody>\n",
              "</table>\n",
              "</div>"
            ],
            "text/plain": [
              "      index     Date  Monthly_Total_SP500_Return  Monthly_Total_Bond_Return\n",
              "1806   1807  2021.08                    0.021860                  -0.012039\n",
              "1807   1808  2021.09                   -0.000836                  -0.010927\n",
              "1808   1809  2021.10                    0.004529                   0.021668\n",
              "1809   1810  2021.11                    0.047455                   0.006427\n",
              "1810   1811  2021.12                    0.002661                  -0.034416\n",
              "1811   1812  2022.01                   -0.020510                   0.011571\n",
              "1812   1813  2022.02                   -0.029016                  -0.002424\n",
              "1813   1814  2022.03                   -0.008916                  -0.036318\n",
              "1814   1815  2022.04                    0.001196                   0.043630\n",
              "1815   1816  2022.05                   -0.078714                  -0.007469\n",
              "1816   1817  2022.06                   -0.033680                   0.042048\n",
              "1817   1818  2022.07                    0.004656                  -0.020387\n",
              "1818   1819  2022.08                    0.064483                  -0.051711\n",
              "1819   1820  2022.09                   -0.072765                   0.015477\n",
              "1820   1821  2022.10                   -0.030900                   0.047051\n",
              "1821   1822  2022.11                    0.052863                   0.014839\n",
              "1822   1823  2022.12                    0.000120                  -0.014792\n",
              "1823   1824  2023.01                    0.013774                  -0.025523\n",
              "1824   1825  2023.02                    0.031479                   0.026255\n",
              "1825   1826  2023.03                   -0.025845                   0.009121"
            ]
          },
          "execution_count": 3,
          "metadata": {},
          "output_type": "execute_result"
        }
      ],
      "source": [
        "#Remove the missing values\n",
        "returns_df = returns_df.dropna()\n",
        "\n",
        "# reset the index due to the droping\n",
        "returns_df.reset_index(inplace=True)\n",
        "print(f\" There are {len(returns_df.index) } month's data!\")\n",
        "print(f\" The missing values in each column \")\n",
        "print(returns_df.isnull().sum())\n",
        "returns_df.tail(20)"
      ]
    },
    {
      "cell_type": "raw",
      "id": "5c17b859-42fd-467e-8eb9-f1be668e2e20",
      "metadata": {
        "id": "5c17b859-42fd-467e-8eb9-f1be668e2e20"
      },
      "source": [
        "# Only use 300 months data for debug purpose; will be removed later"
      ]
    },
    {
      "cell_type": "raw",
      "id": "b61085ab-de45-40ea-998a-5d465130e085",
      "metadata": {
        "id": "b61085ab-de45-40ea-998a-5d465130e085"
      },
      "source": [
        "#returns_df = returns_df.iloc[:20, ]\n",
        "#returns_df\n"
      ]
    },
    {
      "cell_type": "markdown",
      "id": "5a02b97e-669d-4580-9072-7c18288665ca",
      "metadata": {
        "id": "5a02b97e-669d-4580-9072-7c18288665ca"
      },
      "source": [
        "### Define the Cost of Attendance Constant"
      ]
    },
    {
      "cell_type": "code",
      "execution_count": null,
      "id": "d6225ad8-8c6f-4c04-9eec-5ed089256e1c",
      "metadata": {
        "id": "d6225ad8-8c6f-4c04-9eec-5ed089256e1c"
      },
      "outputs": [],
      "source": [
        "# Current Non-resident total costs for attending UW Seattle, WA\n",
        "Annual_total_costs = 63906\n",
        "# Total costs inflation\n",
        "Annual_total_costs_inflation = 0.06"
      ]
    },
    {
      "cell_type": "code",
      "execution_count": null,
      "id": "f2f849f4-b156-486a-80c5-ecb76612e13e",
      "metadata": {
        "id": "f2f849f4-b156-486a-80c5-ecb76612e13e",
        "outputId": "96ae318c-83dd-4e9f-d7aa-f60233d770c3"
      },
      "outputs": [
        {
          "name": "stdout",
          "output_type": "stream",
          "text": [
            " (Annual_total_costs, Annual_total_costs_inflation) = (63906, 0.06)\n"
          ]
        }
      ],
      "source": [
        "print(f\" (Annual_total_costs, Annual_total_costs_inflation) = {(Annual_total_costs, Annual_total_costs_inflation)}\")"
      ]
    },
    {
      "cell_type": "code",
      "execution_count": null,
      "id": "25340b9f-37c8-44d5-bf91-7f88e894c047",
      "metadata": {
        "id": "25340b9f-37c8-44d5-bf91-7f88e894c047"
      },
      "outputs": [],
      "source": [
        "# 1: monthly; 2: bimonthly; 3: quarterly; 6: semi-annual; 12: annually\n",
        "Withdrawal_frequency_months =[ 1, 2, 3, 6, 12]\n",
        "# withdrawal length in months for 4 years\n",
        "Withdrawal_length_months = 4*12"
      ]
    },
    {
      "cell_type": "markdown",
      "id": "964a4e46-d0ab-4890-92ae-47cb7c600e3c",
      "metadata": {
        "id": "964a4e46-d0ab-4890-92ae-47cb7c600e3c"
      },
      "source": [
        "### Define the Monthly Investment Constant\n",
        "\n",
        "Historical Returns on Stocks, Bonds and Bills: 1928-2022\n",
        "\n",
        "https://pages.stern.nyu.edu/~adamodar/New_Home_Page/datafile/histretSP.html\n",
        "\n",
        "+ For 70% of SP500 and 30% of Bond, the Geometric Average Historical Return is about 9%.\n",
        "+ The Annual total cost inflation of attendance is about 6%.\n",
        "+ The **real return** for the investment is about 9%-6% =3%\n"
      ]
    },
    {
      "cell_type": "code",
      "execution_count": null,
      "id": "0b3d315e-85c8-48c3-a177-5ea4ae6bc6d6",
      "metadata": {
        "id": "0b3d315e-85c8-48c3-a177-5ea4ae6bc6d6",
        "outputId": "6d57d517-7846-433f-817c-03b263181d88"
      },
      "outputs": [
        {
          "name": "stdout",
          "output_type": "stream",
          "text": [
            " the real return after cost of attendance inflation = 0.03\n"
          ]
        }
      ],
      "source": [
        "# 1: monthly; 2: bimonthly; 3: quarterly; 6: semi-annual; 12: annually\n",
        "Investment_frequency_months =[ 1, 2, 3, 6, 12]\n",
        "# investment length in months for 18 years\n",
        "Investment_length_months = 18*12\n",
        "\n",
        "Geometric_Average_Annual_Return = 0.09\n",
        "real_annual_return = Geometric_Average_Annual_Return-Annual_total_costs_inflation\n",
        "print(f\" the real return after cost of attendance inflation = {real_annual_return:.2f}\")"
      ]
    },
    {
      "cell_type": "markdown",
      "id": "68eb1ed2-a618-4d47-9f0a-eb3dfc5042a5",
      "metadata": {
        "id": "68eb1ed2-a618-4d47-9f0a-eb3dfc5042a5"
      },
      "source": [
        "Convert annual rate of return to monthly rate of return, using the following formula\n",
        "\n",
        "$$\n",
        "(1+m)^{12}= (1+i)\n",
        "$$\n",
        "where m denotes the monthly return and r denotes the annual return\n",
        "\n",
        "$$\n",
        "m=(1+i)^{1/2}-1\n",
        "$$"
      ]
    },
    {
      "cell_type": "code",
      "execution_count": null,
      "id": "f7685df7-ea1a-4bd4-8d2e-8a7a78cb814f",
      "metadata": {
        "id": "f7685df7-ea1a-4bd4-8d2e-8a7a78cb814f",
        "outputId": "b9cfd8eb-5af1-4871-a2e6-63e2d81e0a47"
      },
      "outputs": [
        {
          "name": "stdout",
          "output_type": "stream",
          "text": [
            " the monthly return = 0.0072\n"
          ]
        }
      ],
      "source": [
        "month_return = pow(1+Geometric_Average_Annual_Return, 1/12)-1\n",
        "print(f\" the monthly return = {month_return:.4f}\")"
      ]
    },
    {
      "cell_type": "markdown",
      "id": "dec4d1c0-bbd3-4daf-996c-d1b1ec35683b",
      "metadata": {
        "id": "dec4d1c0-bbd3-4daf-996c-d1b1ec35683b"
      },
      "source": [
        "### Estimate the Monthly Investment Amount\n",
        "\n",
        "https://analystprep.com/study-notes/actuarial-exams/soa/fm-financial-mathematics/annuities-cash-flows-with-non-contingent-payments/\n",
        "\n",
        "Suppose we need four times the total cost of attendance in 18 years since the students need to complete the college in 4 years;\n",
        "by the formula\n",
        "\n",
        "\n",
        "$$\n",
        "\\text{Total money need in 18 years}=4* \\text{cost of attendance at year 18}\n",
        "$$\n",
        "\n",
        "Discount annuity factor\n",
        "$$\n",
        "\\text{Discount annuity factor}=\\dfrac{1-(1+r)^{-12*18}}{r}\n",
        "$$\n",
        "\n",
        "where $r$ is the real monthly return and 12*18 denotes the total number of months for 18 years\n",
        "\n",
        "Then monthly investment\n",
        "\n",
        "$$\n",
        "\\text{Then monthly investment} = \\dfrac{\\text{Total money need in 18 years}}{\\text{Discount annuity factor}}\n",
        "$$\n",
        "\n",
        "$$\n",
        "\\text{Then annually investment} = \\text{Then monthly investment} *12\n",
        "$$"
      ]
    },
    {
      "cell_type": "code",
      "execution_count": null,
      "id": "68f3e4ec-f9b0-481e-a06f-144cc015c5a0",
      "metadata": {
        "id": "68f3e4ec-f9b0-481e-a06f-144cc015c5a0",
        "outputId": "c5cf0b00-2920-4981-dd9a-795d14a7c5a7"
      },
      "outputs": [
        {
          "name": "stdout",
          "output_type": "stream",
          "text": [
            "discount_annuity_factor=109.33\n",
            "estimate annually_investment_amount =28056.09\n"
          ]
        }
      ],
      "source": [
        "total_money_needed = 4*Annual_total_costs\n",
        "discount_annuity_factor = (1-pow(1+month_return, -Investment_length_months))/month_return\n",
        "print(f\"discount_annuity_factor={discount_annuity_factor:.2f}\")\n",
        "annually_investment_amount = total_money_needed/discount_annuity_factor*12\n",
        "print(f\"estimate annually_investment_amount ={annually_investment_amount:.2f}\")"
      ]
    },
    {
      "cell_type": "markdown",
      "id": "63c882bb-4d0b-4ecc-bcc0-78eb67952d2c",
      "metadata": {
        "id": "63c882bb-4d0b-4ecc-bcc0-78eb67952d2c"
      },
      "source": [
        "## Execute the loop"
      ]
    },
    {
      "cell_type": "code",
      "execution_count": null,
      "id": "62c4b7e0-4d31-461e-bd37-26676fbe8557",
      "metadata": {
        "id": "62c4b7e0-4d31-461e-bd37-26676fbe8557",
        "outputId": "7602e970-a581-49c8-9674-23b015acdfaa"
      },
      "outputs": [
        {
          "name": "stdout",
          "output_type": "stream",
          "text": [
            " the total months of data = 1826\n",
            " the Investment_length_months = 216\n",
            " the Withdrawal_length_months = 48\n",
            " the last month index for the starting index of the rolling window = 1562\n"
          ]
        }
      ],
      "source": [
        "#generate stock percent=0.0.05, 0.1, 0.15, 0.2, ..., 0.9, 0.95, 1.0]\n",
        "Stock_percent = [idx/100 for idx in range(0, 105,5)]\n",
        "\n",
        "# find the last month row number for the rolling window\n",
        "last_month_idx= len(returns_df.index)- Investment_length_months - Withdrawal_length_months\n",
        "print(f\" the total months of data = {len(returns_df.index)}\")\n",
        "print(f\" the Investment_length_months = {Investment_length_months}\")\n",
        "print(f\" the Withdrawal_length_months = {Withdrawal_length_months}\")\n",
        "print(f\" the last month index for the starting index of the rolling window = {last_month_idx}\")"
      ]
    },
    {
      "cell_type": "code",
      "execution_count": null,
      "id": "e536f16a-57ec-4749-8d5e-c4c92ef00efb",
      "metadata": {
        "tags": [],
        "id": "e536f16a-57ec-4749-8d5e-c4c92ef00efb",
        "outputId": "e69d058b-1c9a-48b8-beb3-cd3e95085874"
      },
      "outputs": [
        {
          "data": {
            "text/plain": [
              "5"
            ]
          },
          "execution_count": 11,
          "metadata": {},
          "output_type": "execute_result"
        }
      ],
      "source": [
        "len(Withdrawal_frequency_months)"
      ]
    },
    {
      "cell_type": "markdown",
      "id": "5ed7d4b9-6b6b-4496-ba4f-9923fb9ca2a7",
      "metadata": {
        "id": "5ed7d4b9-6b6b-4496-ba4f-9923fb9ca2a7"
      },
      "source": [
        "## Results in N-dimensional Array\n",
        "Muti-dimension array holds all the data; then we can run all the loops\n",
        "+ First dimension holds the percentate;0, 0.05, 0.1, 0.15, ..., 1.0; which has 21 cases\n",
        "+ Second dimension holds the rollowing windows starting location, which starts from 0, then 1, then 2, ..., last index\n",
        "   for example, if it starts from 0, 1, 2, 3, 4, 5 respectively; which has 5+1 = 6 possibilites\n",
        "+ Third dimension holds the investment (18*12=216) and withdrawal month (48) history\n",
        "+ Fourth dimension holds the investmetn strategies (1, 2, 3, 6, 12 months); 5 possibilities\n",
        "+ Fifth dimension holds the withdrawal strategies (1, 2, 3, 6, 12 months); 5 possibilities\n"
      ]
    },
    {
      "cell_type": "code",
      "execution_count": null,
      "id": "176e1f34-42a2-44ec-a4fc-3a737bd1d655",
      "metadata": {
        "id": "176e1f34-42a2-44ec-a4fc-3a737bd1d655",
        "outputId": "2297c4c4-1d40-49c9-d44e-c0fe324da87e"
      },
      "outputs": [
        {
          "data": {
            "text/plain": [
              "(21, 1563, 264, 5, 5)"
            ]
          },
          "execution_count": 12,
          "metadata": {},
          "output_type": "execute_result"
        }
      ],
      "source": [
        "dim= (len(Stock_percent), last_month_idx+1, Investment_length_months + Withdrawal_length_months, len(Investment_frequency_months), len(Withdrawal_frequency_months))\n",
        "\n",
        "dim"
      ]
    },
    {
      "cell_type": "markdown",
      "id": "0db5ad2d-96e0-4cbd-bf05-829c8a0cff75",
      "metadata": {
        "id": "0db5ad2d-96e0-4cbd-bf05-829c8a0cff75"
      },
      "source": [
        "https://pandas.pydata.org/docs/reference/api/pandas.DataFrame.loc.html"
      ]
    },
    {
      "cell_type": "code",
      "execution_count": null,
      "id": "e6ec2852-99a0-4379-b8f7-12dcdba22bf6",
      "metadata": {
        "tags": [],
        "id": "e6ec2852-99a0-4379-b8f7-12dcdba22bf6",
        "outputId": "4b7d5889-1e19-4403-ae34-d7abc8c3ef67"
      },
      "outputs": [
        {
          "name": "stdout",
          "output_type": "stream",
          "text": [
            "stock_percent =0.0\n",
            "stock_percent =0.05\n",
            "stock_percent =0.1\n",
            "stock_percent =0.15\n",
            "stock_percent =0.2\n",
            "stock_percent =0.25\n",
            "stock_percent =0.3\n",
            "stock_percent =0.35\n",
            "stock_percent =0.4\n",
            "stock_percent =0.45\n",
            "stock_percent =0.5\n",
            "stock_percent =0.55\n",
            "stock_percent =0.6\n",
            "stock_percent =0.65\n",
            "stock_percent =0.7\n",
            "stock_percent =0.75\n",
            "stock_percent =0.8\n",
            "stock_percent =0.85\n",
            "stock_percent =0.9\n",
            "stock_percent =0.95\n",
            "stock_percent =1.0\n",
            "Wall time: 12min 23s\n"
          ]
        }
      ],
      "source": [
        "%%time\n",
        "import numpy as np\n",
        "dim= (len(Stock_percent), last_month_idx + 1, Investment_length_months + Withdrawal_length_months, len(Investment_frequency_months), len(Withdrawal_frequency_months))\n",
        "\n",
        "# we need to have two investment accounts for sp500=stock and bond\n",
        "stock_amount = np.zeros(dim)\n",
        "bond_amount = np.zeros(dim)\n",
        "\n",
        "\n",
        "# loop over the investment strategies for sp500; 0, 0.05, 0.1\n",
        "for stock_pct_idx,stock_percent in enumerate(Stock_percent):\n",
        "    print(f\"stock_percent ={stock_percent}\")\n",
        "    # loop over the investment frequency\n",
        "    for invest_period_idx, invest_period in enumerate(Investment_frequency_months):\n",
        "\n",
        "        # loop over the start position for the rolling window\n",
        "        for month_idx_start in range(0,last_month_idx+1):\n",
        "\n",
        "            #loop over the investment length from relative index 0, 1, 2, ..., Investment_length_months -1\n",
        "            for invest_relative_idx in range(0,Investment_length_months):\n",
        "\n",
        "                # update the sp500  growth due to the past investment\n",
        "                # a*=b means a =a*b\n",
        "                #print(f\" (stock_pct_idx, month_idx_start,invest_relative_idx, invest_period_idx) ={(stock_pct_idx, month_idx_start,invest_relative_idx, invest_period_idx)}\")\n",
        "                #print(f\"returns_df.loc[month_idx_start + invest_relative_idx,'Monthly_Total_SP500_Return']= {returns_df.loc[month_idx_start + invest_relative_idx,'Monthly_Total_SP500_Return']}\")\n",
        "                # update the current balance = previous period's balance *(1+return) since investment is made at the end of period,\n",
        "                if (invest_relative_idx !=0): # r_t= r_{t-1)*(1+r)\n",
        "                    stock_amount[stock_pct_idx, month_idx_start,invest_relative_idx, invest_period_idx, :] = stock_amount[stock_pct_idx, month_idx_start,invest_relative_idx -1, invest_period_idx, :] * \\\n",
        "                        (1+returns_df.loc[month_idx_start + invest_relative_idx,'Monthly_Total_SP500_Return'])\n",
        "                    #print(f\"stock_amount[stock_pct_idx, month_idx_start,invest_relative_idx, invest_period_idx, :]={stock_amount[stock_pct_idx, month_idx_start,invest_relative_idx, invest_period_idx, :]}\")\n",
        "                    # similily the bond growth due to the past investment\n",
        "                    bond_amount[stock_pct_idx, month_idx_start,invest_relative_idx, invest_period_idx, :] = bond_amount[stock_pct_idx, month_idx_start,invest_relative_idx - 1, invest_period_idx, :] * \\\n",
        "                        (1+returns_df.loc[month_idx_start + invest_relative_idx,'Monthly_Total_Bond_Return'])\n",
        "                else:# first period, there is no previous investment , which is 0\n",
        "                    stock_amount[stock_pct_idx, month_idx_start,invest_relative_idx, invest_period_idx, :] = 0.0\n",
        "                    bond_amount[stock_pct_idx, month_idx_start,invest_relative_idx, invest_period_idx, :] = 0.0\n",
        "                # compute the new investment amount per period\n",
        "                invest_amount_period= annually_investment_amount/12.0*invest_period\n",
        "\n",
        "                # the sp500 and bond percentage is bond the specified percentage in the outer loop\n",
        "                # update the sp500 and bond amount due to the new investment\n",
        "                # invest_relative_idx = 0, 1, 2, 3, 4, 5, 6, 7, 8, 9, 10, 11, 12,\n",
        "                # add 1, it becomes idx =1, 2, 3, 4, 5, 6, 7, 8, 9, 10, 11, 12, 13\n",
        "                # % rmainder\n",
        "                if ((invest_relative_idx + 1) % invest_period == 0):\n",
        "                    # invest in sp500 and bond according to the percentage of sp500 and bond respectively\n",
        "                    stock_amount[stock_pct_idx, month_idx_start,invest_relative_idx, invest_period_idx, :] += invest_amount_period*stock_percent\n",
        "                    bond_amount[stock_pct_idx, month_idx_start,invest_relative_idx, invest_period_idx, :] += invest_amount_period*(1-stock_percent)\n",
        "\n"
      ]
    },
    {
      "cell_type": "code",
      "execution_count": null,
      "id": "7cd6a183-cb42-40fe-994f-310ab8d4a883",
      "metadata": {
        "tags": [],
        "id": "7cd6a183-cb42-40fe-994f-310ab8d4a883",
        "outputId": "73a1e21c-bac2-42ad-bf2b-ca54569589df"
      },
      "outputs": [
        {
          "data": {
            "text/plain": [
              "((21, 1563, 264, 5, 5), (21, 1563, 264, 5, 5))"
            ]
          },
          "execution_count": 14,
          "metadata": {},
          "output_type": "execute_result"
        }
      ],
      "source": [
        "stock_amount.shape,bond_amount.shape"
      ]
    },
    {
      "cell_type": "markdown",
      "id": "6b518c49-bc8e-4993-a8a4-f077f4c7012f",
      "metadata": {
        "id": "6b518c49-bc8e-4993-a8a4-f077f4c7012f"
      },
      "source": [
        "## Balance the Portfolio by rolling SP500 into Bonds to Protect the Assets after the Last Investment\n"
      ]
    },
    {
      "cell_type": "code",
      "execution_count": null,
      "id": "39cf4c8b-266d-4ef8-8c3a-9ddc69a26516",
      "metadata": {
        "id": "39cf4c8b-266d-4ef8-8c3a-9ddc69a26516"
      },
      "outputs": [],
      "source": [
        "portfolio = bond_amount + stock_amount"
      ]
    },
    {
      "cell_type": "markdown",
      "id": "d8afd400-eeee-4b7c-ad50-4574f77a1aec",
      "metadata": {
        "id": "d8afd400-eeee-4b7c-ad50-4574f77a1aec"
      },
      "source": [
        "## Handle Withdraw\n",
        "\n",
        "dim= (len(Stock_percent), last_month_idx+1, Investment_length_months + Withdrawal_length_months, len(Investment_frequency_months), len(Withdrawal_frequency_months))"
      ]
    },
    {
      "cell_type": "code",
      "execution_count": null,
      "id": "b753a861-f08f-436a-a383-21284bf5ff48",
      "metadata": {
        "tags": [],
        "id": "b753a861-f08f-436a-a383-21284bf5ff48",
        "outputId": "54415508-de6d-44a1-f2a7-c8d1eaabee29"
      },
      "outputs": [
        {
          "name": "stdout",
          "output_type": "stream",
          "text": [
            "stock_percent =0.0\n",
            "stock_percent =0.05\n",
            "stock_percent =0.1\n",
            "stock_percent =0.15\n",
            "stock_percent =0.2\n",
            "stock_percent =0.25\n",
            "stock_percent =0.3\n",
            "stock_percent =0.35\n",
            "stock_percent =0.4\n",
            "stock_percent =0.45\n",
            "stock_percent =0.5\n",
            "stock_percent =0.55\n",
            "stock_percent =0.6\n",
            "stock_percent =0.65\n",
            "stock_percent =0.7\n",
            "stock_percent =0.75\n",
            "stock_percent =0.8\n",
            "stock_percent =0.85\n",
            "stock_percent =0.9\n",
            "stock_percent =0.95\n",
            "stock_percent =1.0\n",
            "Wall time: 5min 14s\n"
          ]
        }
      ],
      "source": [
        "%%time\n",
        "# loop over the investment strategies for sp500; 0, 0.05, 0.1\n",
        "for stock_pct_idx,stock_percent in enumerate(Stock_percent):\n",
        "    print(f\"stock_percent ={stock_percent}\")\n",
        "    # loop over the investment frequency\n",
        "    for invest_period_idx, invest_period in enumerate(Investment_frequency_months):\n",
        "\n",
        "        #loop over withdrawal strategies\n",
        "        for withdrawal_period_idx, withdrawal_period in enumerate(Withdrawal_frequency_months):\n",
        "            # loop over Rolling window starting position for the rolling withdraw\n",
        "            for month_idx_start in range(0,last_month_idx+1):\n",
        "                #print(f\"month_idx_start ={month_idx_start}\")\n",
        "                #loop over the windows relative index from 0, 1, ...WLM-1\n",
        "                for withdrawal_relative_idx in range(0,Withdrawal_length_months):\n",
        "                    #print(f\"withdrawal_relative_idx={withdrawal_relative_idx}\")\n",
        "                    portfolio[stock_pct_idx, month_idx_start,Investment_length_months + withdrawal_relative_idx, invest_period_idx, withdrawal_period_idx] =  \\\n",
        "                        portfolio[stock_pct_idx, month_idx_start,Investment_length_months + withdrawal_relative_idx - 1, invest_period_idx, withdrawal_period_idx] * \\\n",
        "                            (1+returns_df.loc[month_idx_start + Investment_length_months + withdrawal_relative_idx,'Monthly_Total_Bond_Return'])\n",
        "                   # computethe number of years for the withdraw\n",
        "                    # // get the integer part, for example 12//10 = 1; 19//10 =1\n",
        "                    # withdrawal_period_idx =0, 1,2, .., 11, 12, 13,\n",
        "                    # think about //11?\n",
        "                    num_year_withdrawal = (withdrawal_period_idx)//12\n",
        "                    # compute the withdrawal amount per period\n",
        "                    # new withdrawal amount = (1+inflation)^(number of years for investment+ number years withdrawal)\n",
        "                    annually_withdrawal_amount = Annual_total_costs* pow(1+Annual_total_costs_inflation, Investment_length_months//12+num_year_withdrawal)\n",
        "                    # consider the withdrawal strategies such as monthly 9withdrawal_period=1); bimonthly = (withdrawal_period=2)\n",
        "\n",
        "                    withdrawal_amount_period= annually_withdrawal_amount/12.0*withdrawal_period\n",
        "\n",
        "                    # deduct money from the bond account if the withdrawal_relative_idx match the withdrawal frequency/strategies\n",
        "                    # a-=b; a =a-b\n",
        "                    if ((withdrawal_relative_idx + 1) % withdrawal_period == 0):\n",
        "                        portfolio[stock_pct_idx, month_idx_start,Investment_length_months + withdrawal_relative_idx, invest_period_idx, withdrawal_period_idx] -= withdrawal_amount_period\n"
      ]
    },
    {
      "cell_type": "code",
      "execution_count": null,
      "id": "f6360da6-4546-40c2-b95d-f3b56c9c810e",
      "metadata": {
        "id": "f6360da6-4546-40c2-b95d-f3b56c9c810e",
        "outputId": "fa25e73c-ecac-44a5-8553-979d208823a0"
      },
      "outputs": [
        {
          "data": {
            "text/plain": [
              "(21, 1563, 264, 5, 5)"
            ]
          },
          "execution_count": 17,
          "metadata": {},
          "output_type": "execute_result"
        }
      ],
      "source": [
        "portfolio.shape"
      ]
    },
    {
      "cell_type": "markdown",
      "id": "40ce3e4d-796c-4768-8c5e-04707dce8340",
      "metadata": {
        "id": "40ce3e4d-796c-4768-8c5e-04707dce8340"
      },
      "source": [
        "## Look at the Investment account balance before withdraw at T=12*18\n",
        "\n",
        "dim= (len(Stock_percent), last_month_idx+1, Investment_length_months + Withdrawal_length_months, len(Investment_frequency_months), len(Withdrawal_frequency_months))\n",
        "(# of port,# of rolling windows, investment and withdrawal history, investment strategies, withdraw strategies)\n",
        "\n"
      ]
    },
    {
      "cell_type": "code",
      "execution_count": null,
      "id": "22f7cb2e-bb77-4542-a906-c1a2e7c4fd0a",
      "metadata": {
        "id": "22f7cb2e-bb77-4542-a906-c1a2e7c4fd0a"
      },
      "outputs": [],
      "source": [
        "investment_balance =portfolio\n",
        "investment_balance = portfolio[:, :, -(Withdrawal_length_months+1), :, :]"
      ]
    },
    {
      "cell_type": "code",
      "execution_count": null,
      "id": "a445239e-f994-42be-a13e-10cc250181f9",
      "metadata": {
        "tags": [],
        "id": "a445239e-f994-42be-a13e-10cc250181f9",
        "outputId": "9c4f54bc-5c9b-4d64-90e2-31667605846d"
      },
      "outputs": [
        {
          "data": {
            "text/plain": [
              "(21, 1563, 5, 5)"
            ]
          },
          "execution_count": 19,
          "metadata": {},
          "output_type": "execute_result"
        }
      ],
      "source": [
        "investment_balance.shape"
      ]
    },
    {
      "cell_type": "code",
      "execution_count": null,
      "id": "a4db32bf-9648-4562-84dd-8ee6f161cc2c",
      "metadata": {
        "id": "a4db32bf-9648-4562-84dd-8ee6f161cc2c"
      },
      "outputs": [],
      "source": [
        "\n",
        "pcts = [0.99, 0.95, 0.90, 0.50, 0.10, 0.05, 0.01];\n",
        "percentiles_investment =np.zeros(( len(pcts), len(Investment_frequency_months)*len(Stock_percent)))\n",
        "\n",
        "for idx_pct, _ in enumerate(Stock_percent):\n",
        "    percentiles_investment[:, idx_pct*len(Investment_frequency_months):(idx_pct+1)*len(Investment_frequency_months)] = np.quantile(investment_balance[idx_pct, :, :,1], pcts,  axis = 0)"
      ]
    },
    {
      "cell_type": "code",
      "execution_count": null,
      "id": "4ec18dc3-386d-42db-94a7-e5a2222f3ba0",
      "metadata": {
        "tags": [],
        "id": "4ec18dc3-386d-42db-94a7-e5a2222f3ba0",
        "outputId": "eb309f5c-52b1-4af1-8b53-84a70c1d926a"
      },
      "outputs": [
        {
          "data": {
            "text/plain": [
              "(7, 105)"
            ]
          },
          "execution_count": 21,
          "metadata": {},
          "output_type": "execute_result"
        }
      ],
      "source": [
        "percentiles_investment.shape\n"
      ]
    },
    {
      "cell_type": "code",
      "execution_count": null,
      "id": "1a8719bf-7a83-4290-b06c-94cc0fd2e0be",
      "metadata": {
        "id": "1a8719bf-7a83-4290-b06c-94cc0fd2e0be"
      },
      "outputs": [],
      "source": [
        "import pandas as pd\n",
        "\n",
        "column_index =[\"Monthly\", \"Bi-Monthly\", \"Quarterly\", \"Semi-Annually\", \"Annually\"]\n",
        "invest_methods =[]\n",
        "for idx in range(100,-5, -5):\n",
        "    invest_methods.append(str(100-idx)+\"%sp500\" + str(idx)+\"%bond/\")\n",
        "\n",
        "#print(\"*\"*100)\n",
        "column_names = [ idx+ name  for name in invest_methods for idx in column_index]\n",
        "#print(column_names)\n",
        "## convert your array into a dataframe\n",
        "df = pd.DataFrame (percentiles_investment, index = [\"99th\",\"95th\", \"90th\", \"50th\", \"10th\", \"5th\", \"1th\"], columns = column_names)\n",
        "\n",
        "## save to xlsx file\n",
        "\n",
        "filepath = 'Investment percentiles.xlsx'\n",
        "\n",
        "df.to_excel(filepath, sheet_name= \"investment percentiles\")"
      ]
    },
    {
      "cell_type": "markdown",
      "id": "299d4aac-5ce0-4ef1-8ce7-3db49efc0304",
      "metadata": {
        "id": "299d4aac-5ce0-4ef1-8ce7-3db49efc0304"
      },
      "source": [
        "## Compare Several Investment Strategies and Get the Probabilities"
      ]
    },
    {
      "cell_type": "code",
      "execution_count": null,
      "id": "27a8eec8-d6ce-4fec-ac71-32f7b8d63839",
      "metadata": {
        "id": "27a8eec8-d6ce-4fec-ac71-32f7b8d63839"
      },
      "outputs": [],
      "source": [
        "Stock_0percent_idx = int(0/5)\n",
        "Stock_40percent_idx = int(40/5)\n",
        "Stcok_60percent_idx = int(60/5)\n",
        "Stcok_100percent_idx = int(100/5)\n",
        "\n",
        "all_percents=[Stock_0percent_idx, Stock_40percent_idx, Stcok_60percent_idx, Stcok_100percent_idx]\n",
        "works_sheets =[\"sp500_0pct\", \"sp500_40pct\",\"sp500_60pct\",\"sp500_100pct\"]\n",
        "for sp500_idx, sheet_name in zip (all_percents, works_sheets):\n",
        "\n",
        "    my_balance=investment_balance[sp500_idx, :,:,1]\n",
        "    num_col = my_balance.shape[1]\n",
        "    comparision_matrix = np.zeros((num_col,num_col))\n",
        "\n",
        "    for ir in range(0,num_col):\n",
        "        for ic in range(0,num_col):\n",
        "            comparision_matrix[ir,ic]= sum(my_balance[:, ir]>my_balance[:, ic])/my_balance.shape[0]\n",
        "    with pd.ExcelWriter('invest comparions.xlsx', engine='openpyxl',\n",
        "                    mode='a') as writer:\n",
        "        df1 = pd.DataFrame(comparision_matrix)\n",
        "        df1.to_excel(writer, sheet_name = sheet_name)"
      ]
    },
    {
      "cell_type": "markdown",
      "id": "6e06e83c-5a3c-4294-923e-d251bd547bd5",
      "metadata": {
        "tags": [],
        "id": "6e06e83c-5a3c-4294-923e-d251bd547bd5"
      },
      "source": [
        "## Look at the Investment account balance after the final withdraw at T=12*(18+4)\n",
        "Please take care of the index in the\n",
        "\n",
        "\n",
        "dim= (len(Stock_percent), last_month_idx+1, Investment_length_months + Withdrawal_length_months, len(Investment_frequency_months), len(Withdrawal_frequency_months))\n",
        "(# of port,# of rolling windows, investment and withdrawal history, investment strategies, withdraw strategies)\n",
        "\n",
        "### Invest montthly and 100% in SP500"
      ]
    },
    {
      "cell_type": "code",
      "execution_count": null,
      "id": "0e9ace7c-753f-4295-8102-893c83f7e4cd",
      "metadata": {
        "id": "0e9ace7c-753f-4295-8102-893c83f7e4cd",
        "outputId": "b68f2a1c-fe57-4e58-a6d3-09f7902577df"
      },
      "outputs": [
        {
          "data": {
            "text/plain": [
              "(1563, 5)"
            ]
          },
          "execution_count": 24,
          "metadata": {},
          "output_type": "execute_result"
        }
      ],
      "source": [
        "Best_Investment_SP500_Pct = len(Stock_percent)-1 # 100% in sp500\n",
        "Best_Investment_Frequency = 0 # monthly\n",
        "withdrawal_balance = portfolio[Best_Investment_SP500_Pct, :, -1, Best_Investment_Frequency, :]\n",
        "withdrawal_balance.shape"
      ]
    },
    {
      "cell_type": "code",
      "execution_count": null,
      "id": "64b7b60a-ed45-4d43-8b86-7d4df3ed9b1d",
      "metadata": {
        "tags": [],
        "id": "64b7b60a-ed45-4d43-8b86-7d4df3ed9b1d"
      },
      "outputs": [],
      "source": [
        "\n",
        "df = pd.DataFrame (withdrawal_balance)\n",
        "\n",
        "## save to xlsx file\n",
        "\n",
        "filepath = 'WithdrawalPercentiles.xlsx'\n",
        "\n",
        "df.to_excel(filepath, sheet_name= \"withdrawal scenarios\")"
      ]
    },
    {
      "cell_type": "code",
      "execution_count": null,
      "id": "fa33cbad-3a17-40e1-b2af-ad97448e77c7",
      "metadata": {
        "id": "fa33cbad-3a17-40e1-b2af-ad97448e77c7"
      },
      "outputs": [],
      "source": [
        "num_col = withdrawal_balance.shape[1]\n",
        "comparision_matrix = np.zeros((num_col,num_col))\n",
        "\n",
        "for ir in range(0,num_col):\n",
        "    for ic in range(0,num_col):\n",
        "        comparision_matrix[ir,ic]= sum(withdrawal_balance[:, ir]>withdrawal_balance[:, ic])/withdrawal_balance.shape[0]"
      ]
    },
    {
      "cell_type": "code",
      "execution_count": null,
      "id": "64d88454-4bd9-43a6-b598-76f04e0cb246",
      "metadata": {
        "id": "64d88454-4bd9-43a6-b598-76f04e0cb246"
      },
      "outputs": [],
      "source": [
        "\n",
        "filepath = 'Withdrawalcomparision_matrix.xlsx'\n",
        "df = pd.DataFrame (comparision_matrix)\n",
        "df.to_excel(filepath, sheet_name= \"comparision_matrix\")"
      ]
    },
    {
      "cell_type": "markdown",
      "id": "c5da2f94-24b2-4e41-a57c-879a8eac9fe4",
      "metadata": {
        "id": "c5da2f94-24b2-4e41-a57c-879a8eac9fe4"
      },
      "source": [
        "\n",
        "# PPT Presentation\n",
        "\n",
        "# Explain the 529 plan; tax benefits etc\n",
        "# Explain the investment strategies; withdrawal strategies\n",
        "# Explain the rolling window methods based on Robert's data\n",
        "# Summarize the results at two attacched Excel workbooks\n",
        "# Our contributions 1: consider 21*5*5=525 scenarios; 2: consider both investment and withdrawal strategies\n",
        "# The results are consistent with the conclusion from Nobel price Laureates.\n",
        "\n",
        "\"There is **no way** to predict whether the price of stocks and bonds will go up or down over the **next\n",
        "few days or weeks**. But it is **quite possible to foresee** the broad course of the prices of these assets\n",
        "over **longer time periods**, such as, the next three to fve years. These fndings, which may seem both\n",
        "surprising and contradictory, were made and analyzed by this year’s (2018)Laureates, **Eugene Fama, Lars\n",
        "Peter Hansen and Robert Shiller**.\"\n",
        "    \n",
        "    https://www.nobelprize.org/uploads/2018/06/popular-economicsciences2013.pdf\n",
        "    \n",
        "\n",
        "\n",
        "\n"
      ]
    },
    {
      "cell_type": "code",
      "execution_count": null,
      "id": "882e0f31-2e1e-4c8f-8936-f2941c5abe67",
      "metadata": {
        "id": "882e0f31-2e1e-4c8f-8936-f2941c5abe67",
        "outputId": "5c024a1a-1017-4517-e7cc-fcf2c6c28868"
      },
      "outputs": [
        {
          "name": "stdout",
          "output_type": "stream",
          "text": [
            "It takes--- 1060.7247121334076 seconds ---\n"
          ]
        }
      ],
      "source": [
        "print(\"It takes--- %s seconds ---\" % (time.time() - start_time))"
      ]
    }
  ],
  "metadata": {
    "kernelspec": {
      "display_name": "Python 3 (ipykernel)",
      "language": "python",
      "name": "python3"
    },
    "language_info": {
      "codemirror_mode": {
        "name": "ipython",
        "version": 3
      },
      "file_extension": ".py",
      "mimetype": "text/x-python",
      "name": "python",
      "nbconvert_exporter": "python",
      "pygments_lexer": "ipython3",
      "version": "3.9.7"
    },
    "colab": {
      "provenance": []
    }
  },
  "nbformat": 4,
  "nbformat_minor": 5
}